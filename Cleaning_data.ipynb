{
 "cells": [
  {
   "cell_type": "code",
   "execution_count": 1,
   "metadata": {},
   "outputs": [],
   "source": [
    "import pandas as pd\n",
    "import requests\n",
    "import numpy as np\n",
    "import re\n",
    "import csv\n",
    "from bs4 import BeautifulSoup\n",
    "from sklearn.metrics import roc_curve, auc, precision_recall_curve"
   ]
  },
  {
   "cell_type": "code",
   "execution_count": 3,
   "metadata": {},
   "outputs": [],
   "source": [
    "df1 = pd.read_csv('imdb_1.csv')\n",
    "df2 = pd.read_csv('imdb_2.csv')"
   ]
  },
  {
   "cell_type": "code",
   "execution_count": 4,
   "metadata": {},
   "outputs": [
    {
     "data": {
      "text/html": [
       "<div>\n",
       "<style scoped>\n",
       "    .dataframe tbody tr th:only-of-type {\n",
       "        vertical-align: middle;\n",
       "    }\n",
       "\n",
       "    .dataframe tbody tr th {\n",
       "        vertical-align: top;\n",
       "    }\n",
       "\n",
       "    .dataframe thead th {\n",
       "        text-align: right;\n",
       "    }\n",
       "</style>\n",
       "<table border=\"1\" class=\"dataframe\">\n",
       "  <thead>\n",
       "    <tr style=\"text-align: right;\">\n",
       "      <th></th>\n",
       "      <th>Unnamed: 0</th>\n",
       "      <th>movie_id</th>\n",
       "      <th>title</th>\n",
       "      <th>runtime</th>\n",
       "      <th>genre</th>\n",
       "      <th>certificate</th>\n",
       "      <th>imdb_rating</th>\n",
       "      <th>gross</th>\n",
       "      <th>year</th>\n",
       "      <th>votes</th>\n",
       "      <th>director</th>\n",
       "      <th>actors</th>\n",
       "      <th>metascore</th>\n",
       "      <th>summary</th>\n",
       "    </tr>\n",
       "  </thead>\n",
       "  <tbody>\n",
       "    <tr>\n",
       "      <th>0</th>\n",
       "      <td>0</td>\n",
       "      <td>tt7286456</td>\n",
       "      <td>Joker</td>\n",
       "      <td>122.0</td>\n",
       "      <td>Crime, Drama, Thriller</td>\n",
       "      <td>R</td>\n",
       "      <td>8.5</td>\n",
       "      <td>335.45</td>\n",
       "      <td>(2019)</td>\n",
       "      <td>804730</td>\n",
       "      <td>Todd Phillips</td>\n",
       "      <td>['Joaquin Phoenix', 'Robert De Niro', 'Zazie B...</td>\n",
       "      <td>59.0</td>\n",
       "      <td>In Gotham City, mentally troubled comedian Art...</td>\n",
       "    </tr>\n",
       "    <tr>\n",
       "      <th>1</th>\n",
       "      <td>1</td>\n",
       "      <td>tt6751668</td>\n",
       "      <td>Parasite</td>\n",
       "      <td>132.0</td>\n",
       "      <td>Comedy, Drama, Thriller</td>\n",
       "      <td>R</td>\n",
       "      <td>8.6</td>\n",
       "      <td>53.37</td>\n",
       "      <td>(2019)</td>\n",
       "      <td>423230</td>\n",
       "      <td>Bong Joon Ho</td>\n",
       "      <td>['Kang-ho Song', 'Sun-kyun Lee', 'Yeo-jeong Jo...</td>\n",
       "      <td>96.0</td>\n",
       "      <td>Greed and class discrimination threaten the ne...</td>\n",
       "    </tr>\n",
       "    <tr>\n",
       "      <th>2</th>\n",
       "      <td>2</td>\n",
       "      <td>tt8579674</td>\n",
       "      <td>1917</td>\n",
       "      <td>119.0</td>\n",
       "      <td>Drama, War</td>\n",
       "      <td>R</td>\n",
       "      <td>8.3</td>\n",
       "      <td>159.23</td>\n",
       "      <td>(2019)</td>\n",
       "      <td>324071</td>\n",
       "      <td>Sam Mendes</td>\n",
       "      <td>['Dean-Charles Chapman', 'George MacKay', 'Dan...</td>\n",
       "      <td>78.0</td>\n",
       "      <td>April 6th, 1917. As a regiment assembles to wa...</td>\n",
       "    </tr>\n",
       "    <tr>\n",
       "      <th>3</th>\n",
       "      <td>3</td>\n",
       "      <td>tt4154796</td>\n",
       "      <td>Avengers: Endgame</td>\n",
       "      <td>181.0</td>\n",
       "      <td>Action, Adventure, Drama</td>\n",
       "      <td>PG-13</td>\n",
       "      <td>8.4</td>\n",
       "      <td>858.37</td>\n",
       "      <td>(2019)</td>\n",
       "      <td>726032</td>\n",
       "      <td>Anthony Russo</td>\n",
       "      <td>['Joe Russo', 'Robert Downey Jr.', 'Chris Evan...</td>\n",
       "      <td>78.0</td>\n",
       "      <td>After the devastating events of Avengers: Infi...</td>\n",
       "    </tr>\n",
       "    <tr>\n",
       "      <th>4</th>\n",
       "      <td>4</td>\n",
       "      <td>tt0068646</td>\n",
       "      <td>The Godfather</td>\n",
       "      <td>175.0</td>\n",
       "      <td>Crime, Drama</td>\n",
       "      <td>R</td>\n",
       "      <td>9.2</td>\n",
       "      <td>134.97</td>\n",
       "      <td>(1972)</td>\n",
       "      <td>1551490</td>\n",
       "      <td>Francis Ford Coppola</td>\n",
       "      <td>['Marlon Brando', 'Al Pacino', 'James Caan', '...</td>\n",
       "      <td>100.0</td>\n",
       "      <td>The aging patriarch of an organized crime dyna...</td>\n",
       "    </tr>\n",
       "  </tbody>\n",
       "</table>\n",
       "</div>"
      ],
      "text/plain": [
       "   Unnamed: 0   movie_id              title  runtime  \\\n",
       "0           0  tt7286456              Joker    122.0   \n",
       "1           1  tt6751668           Parasite    132.0   \n",
       "2           2  tt8579674               1917    119.0   \n",
       "3           3  tt4154796  Avengers: Endgame    181.0   \n",
       "4           4  tt0068646      The Godfather    175.0   \n",
       "\n",
       "                      genre certificate  imdb_rating   gross    year    votes  \\\n",
       "0    Crime, Drama, Thriller           R          8.5  335.45  (2019)   804730   \n",
       "1   Comedy, Drama, Thriller           R          8.6   53.37  (2019)   423230   \n",
       "2                Drama, War           R          8.3  159.23  (2019)   324071   \n",
       "3  Action, Adventure, Drama       PG-13          8.4  858.37  (2019)   726032   \n",
       "4              Crime, Drama           R          9.2  134.97  (1972)  1551490   \n",
       "\n",
       "               director                                             actors  \\\n",
       "0         Todd Phillips  ['Joaquin Phoenix', 'Robert De Niro', 'Zazie B...   \n",
       "1          Bong Joon Ho  ['Kang-ho Song', 'Sun-kyun Lee', 'Yeo-jeong Jo...   \n",
       "2            Sam Mendes  ['Dean-Charles Chapman', 'George MacKay', 'Dan...   \n",
       "3         Anthony Russo  ['Joe Russo', 'Robert Downey Jr.', 'Chris Evan...   \n",
       "4  Francis Ford Coppola  ['Marlon Brando', 'Al Pacino', 'James Caan', '...   \n",
       "\n",
       "   metascore                                            summary  \n",
       "0       59.0  In Gotham City, mentally troubled comedian Art...  \n",
       "1       96.0  Greed and class discrimination threaten the ne...  \n",
       "2       78.0  April 6th, 1917. As a regiment assembles to wa...  \n",
       "3       78.0  After the devastating events of Avengers: Infi...  \n",
       "4      100.0  The aging patriarch of an organized crime dyna...  "
      ]
     },
     "execution_count": 4,
     "metadata": {},
     "output_type": "execute_result"
    }
   ],
   "source": [
    "df1.head()"
   ]
  },
  {
   "cell_type": "code",
   "execution_count": 5,
   "metadata": {},
   "outputs": [
    {
     "data": {
      "text/html": [
       "<div>\n",
       "<style scoped>\n",
       "    .dataframe tbody tr th:only-of-type {\n",
       "        vertical-align: middle;\n",
       "    }\n",
       "\n",
       "    .dataframe tbody tr th {\n",
       "        vertical-align: top;\n",
       "    }\n",
       "\n",
       "    .dataframe thead th {\n",
       "        text-align: right;\n",
       "    }\n",
       "</style>\n",
       "<table border=\"1\" class=\"dataframe\">\n",
       "  <thead>\n",
       "    <tr style=\"text-align: right;\">\n",
       "      <th></th>\n",
       "      <th>Unnamed: 0</th>\n",
       "      <th>movie_id</th>\n",
       "      <th>user_review</th>\n",
       "      <th>critic_review</th>\n",
       "      <th>writer</th>\n",
       "      <th>language</th>\n",
       "      <th>country</th>\n",
       "      <th>budget</th>\n",
       "      <th>gross_1</th>\n",
       "      <th>opening_week</th>\n",
       "      <th>oscar_win</th>\n",
       "      <th>oscar_nom</th>\n",
       "      <th>other_win</th>\n",
       "      <th>other_nom</th>\n",
       "      <th>meta_score</th>\n",
       "    </tr>\n",
       "  </thead>\n",
       "  <tbody>\n",
       "    <tr>\n",
       "      <th>0</th>\n",
       "      <td>0</td>\n",
       "      <td>tt7286456</td>\n",
       "      <td>10,188 user</td>\n",
       "      <td>682 critic</td>\n",
       "      <td>['Todd Phillips', 'Scott Silver']</td>\n",
       "      <td>English</td>\n",
       "      <td>['USA', 'Canada']</td>\n",
       "      <td>$55000000</td>\n",
       "      <td>$335451311</td>\n",
       "      <td>$96202337</td>\n",
       "      <td>['2']</td>\n",
       "      <td>NaN</td>\n",
       "      <td>92.0</td>\n",
       "      <td>199.0</td>\n",
       "      <td>59.0</td>\n",
       "    </tr>\n",
       "    <tr>\n",
       "      <th>1</th>\n",
       "      <td>1</td>\n",
       "      <td>tt6751668</td>\n",
       "      <td>2,507 user</td>\n",
       "      <td>515 critic</td>\n",
       "      <td>['Bong Joon Ho', 'Bong Joon Ho']</td>\n",
       "      <td>Korean</td>\n",
       "      <td>['South Korea']</td>\n",
       "      <td>$11400000</td>\n",
       "      <td>$53369749</td>\n",
       "      <td>$393216</td>\n",
       "      <td>['4']</td>\n",
       "      <td>NaN</td>\n",
       "      <td>262.0</td>\n",
       "      <td>227.0</td>\n",
       "      <td>96.0</td>\n",
       "    </tr>\n",
       "    <tr>\n",
       "      <th>2</th>\n",
       "      <td>2</td>\n",
       "      <td>tt8579674</td>\n",
       "      <td>2,674 user</td>\n",
       "      <td>461 critic</td>\n",
       "      <td>['Sam Mendes', 'Krysty Wilson-Cairns']</td>\n",
       "      <td>English</td>\n",
       "      <td>['USA', 'UK', 'India', 'Spain', 'Canada']</td>\n",
       "      <td>$95000000</td>\n",
       "      <td>$159227644</td>\n",
       "      <td>$576216</td>\n",
       "      <td>['3']</td>\n",
       "      <td>NaN</td>\n",
       "      <td>110.0</td>\n",
       "      <td>161.0</td>\n",
       "      <td>78.0</td>\n",
       "    </tr>\n",
       "    <tr>\n",
       "      <th>3</th>\n",
       "      <td>3</td>\n",
       "      <td>tt4154796</td>\n",
       "      <td>8,764 user</td>\n",
       "      <td>550 critic</td>\n",
       "      <td>['Christopher Markus', 'Stephen McFeely']</td>\n",
       "      <td>English</td>\n",
       "      <td>['USA']</td>\n",
       "      <td>$356000000</td>\n",
       "      <td>$858373000</td>\n",
       "      <td>$357115007</td>\n",
       "      <td>NaN</td>\n",
       "      <td>['1']</td>\n",
       "      <td>65.0</td>\n",
       "      <td>103.0</td>\n",
       "      <td>78.0</td>\n",
       "    </tr>\n",
       "    <tr>\n",
       "      <th>4</th>\n",
       "      <td>4</td>\n",
       "      <td>tt1454029</td>\n",
       "      <td>551 user</td>\n",
       "      <td>393 critic</td>\n",
       "      <td>['Tate Taylor', 'Kathryn Stockett']</td>\n",
       "      <td>English</td>\n",
       "      <td>['USA']</td>\n",
       "      <td>$25000000</td>\n",
       "      <td>$169708112</td>\n",
       "      <td>$26044590</td>\n",
       "      <td>['1']</td>\n",
       "      <td>NaN</td>\n",
       "      <td>79.0</td>\n",
       "      <td>120.0</td>\n",
       "      <td>62.0</td>\n",
       "    </tr>\n",
       "  </tbody>\n",
       "</table>\n",
       "</div>"
      ],
      "text/plain": [
       "   Unnamed: 0   movie_id  user_review critic_review  \\\n",
       "0           0  tt7286456  10,188 user    682 critic   \n",
       "1           1  tt6751668   2,507 user    515 critic   \n",
       "2           2  tt8579674   2,674 user    461 critic   \n",
       "3           3  tt4154796   8,764 user    550 critic   \n",
       "4           4  tt1454029     551 user    393 critic   \n",
       "\n",
       "                                      writer language  \\\n",
       "0          ['Todd Phillips', 'Scott Silver']  English   \n",
       "1           ['Bong Joon Ho', 'Bong Joon Ho']   Korean   \n",
       "2     ['Sam Mendes', 'Krysty Wilson-Cairns']  English   \n",
       "3  ['Christopher Markus', 'Stephen McFeely']  English   \n",
       "4        ['Tate Taylor', 'Kathryn Stockett']  English   \n",
       "\n",
       "                                     country      budget     gross_1  \\\n",
       "0                          ['USA', 'Canada']   $55000000  $335451311   \n",
       "1                            ['South Korea']   $11400000   $53369749   \n",
       "2  ['USA', 'UK', 'India', 'Spain', 'Canada']   $95000000  $159227644   \n",
       "3                                    ['USA']  $356000000  $858373000   \n",
       "4                                    ['USA']   $25000000  $169708112   \n",
       "\n",
       "  opening_week oscar_win oscar_nom  other_win  other_nom  meta_score  \n",
       "0    $96202337     ['2']       NaN       92.0      199.0        59.0  \n",
       "1      $393216     ['4']       NaN      262.0      227.0        96.0  \n",
       "2      $576216     ['3']       NaN      110.0      161.0        78.0  \n",
       "3   $357115007       NaN     ['1']       65.0      103.0        78.0  \n",
       "4    $26044590     ['1']       NaN       79.0      120.0        62.0  "
      ]
     },
     "execution_count": 5,
     "metadata": {},
     "output_type": "execute_result"
    }
   ],
   "source": [
    "df2.head()"
   ]
  },
  {
   "cell_type": "code",
   "execution_count": 6,
   "metadata": {},
   "outputs": [],
   "source": [
    "#drop Unnamed columns form both\n",
    "df1.drop(df1.columns[0], axis=1, inplace=True)\n",
    "df2.drop(df2.columns[0], axis=1, inplace=True)"
   ]
  },
  {
   "cell_type": "code",
   "execution_count": 7,
   "metadata": {},
   "outputs": [],
   "source": [
    "#combining dataset \n",
    "df = df1.merge(df2, on = 'movie_id')"
   ]
  },
  {
   "cell_type": "code",
   "execution_count": 8,
   "metadata": {},
   "outputs": [
    {
     "data": {
      "text/html": [
       "<div>\n",
       "<style scoped>\n",
       "    .dataframe tbody tr th:only-of-type {\n",
       "        vertical-align: middle;\n",
       "    }\n",
       "\n",
       "    .dataframe tbody tr th {\n",
       "        vertical-align: top;\n",
       "    }\n",
       "\n",
       "    .dataframe thead th {\n",
       "        text-align: right;\n",
       "    }\n",
       "</style>\n",
       "<table border=\"1\" class=\"dataframe\">\n",
       "  <thead>\n",
       "    <tr style=\"text-align: right;\">\n",
       "      <th></th>\n",
       "      <th>movie_id</th>\n",
       "      <th>title</th>\n",
       "      <th>runtime</th>\n",
       "      <th>genre</th>\n",
       "      <th>certificate</th>\n",
       "      <th>imdb_rating</th>\n",
       "      <th>gross</th>\n",
       "      <th>year</th>\n",
       "      <th>votes</th>\n",
       "      <th>director</th>\n",
       "      <th>...</th>\n",
       "      <th>language</th>\n",
       "      <th>country</th>\n",
       "      <th>budget</th>\n",
       "      <th>gross_1</th>\n",
       "      <th>opening_week</th>\n",
       "      <th>oscar_win</th>\n",
       "      <th>oscar_nom</th>\n",
       "      <th>other_win</th>\n",
       "      <th>other_nom</th>\n",
       "      <th>meta_score</th>\n",
       "    </tr>\n",
       "  </thead>\n",
       "  <tbody>\n",
       "    <tr>\n",
       "      <th>0</th>\n",
       "      <td>tt7286456</td>\n",
       "      <td>Joker</td>\n",
       "      <td>122.0</td>\n",
       "      <td>Crime, Drama, Thriller</td>\n",
       "      <td>R</td>\n",
       "      <td>8.5</td>\n",
       "      <td>335.45</td>\n",
       "      <td>(2019)</td>\n",
       "      <td>804730</td>\n",
       "      <td>Todd Phillips</td>\n",
       "      <td>...</td>\n",
       "      <td>English</td>\n",
       "      <td>['USA', 'Canada']</td>\n",
       "      <td>$55000000</td>\n",
       "      <td>$335451311</td>\n",
       "      <td>$96202337</td>\n",
       "      <td>['2']</td>\n",
       "      <td>NaN</td>\n",
       "      <td>92.0</td>\n",
       "      <td>199.0</td>\n",
       "      <td>59.0</td>\n",
       "    </tr>\n",
       "    <tr>\n",
       "      <th>1</th>\n",
       "      <td>tt6751668</td>\n",
       "      <td>Parasite</td>\n",
       "      <td>132.0</td>\n",
       "      <td>Comedy, Drama, Thriller</td>\n",
       "      <td>R</td>\n",
       "      <td>8.6</td>\n",
       "      <td>53.37</td>\n",
       "      <td>(2019)</td>\n",
       "      <td>423230</td>\n",
       "      <td>Bong Joon Ho</td>\n",
       "      <td>...</td>\n",
       "      <td>Korean</td>\n",
       "      <td>['South Korea']</td>\n",
       "      <td>$11400000</td>\n",
       "      <td>$53369749</td>\n",
       "      <td>$393216</td>\n",
       "      <td>['4']</td>\n",
       "      <td>NaN</td>\n",
       "      <td>262.0</td>\n",
       "      <td>227.0</td>\n",
       "      <td>96.0</td>\n",
       "    </tr>\n",
       "    <tr>\n",
       "      <th>2</th>\n",
       "      <td>tt8579674</td>\n",
       "      <td>1917</td>\n",
       "      <td>119.0</td>\n",
       "      <td>Drama, War</td>\n",
       "      <td>R</td>\n",
       "      <td>8.3</td>\n",
       "      <td>159.23</td>\n",
       "      <td>(2019)</td>\n",
       "      <td>324071</td>\n",
       "      <td>Sam Mendes</td>\n",
       "      <td>...</td>\n",
       "      <td>English</td>\n",
       "      <td>['USA', 'UK', 'India', 'Spain', 'Canada']</td>\n",
       "      <td>$95000000</td>\n",
       "      <td>$159227644</td>\n",
       "      <td>$576216</td>\n",
       "      <td>['3']</td>\n",
       "      <td>NaN</td>\n",
       "      <td>110.0</td>\n",
       "      <td>161.0</td>\n",
       "      <td>78.0</td>\n",
       "    </tr>\n",
       "    <tr>\n",
       "      <th>3</th>\n",
       "      <td>tt4154796</td>\n",
       "      <td>Avengers: Endgame</td>\n",
       "      <td>181.0</td>\n",
       "      <td>Action, Adventure, Drama</td>\n",
       "      <td>PG-13</td>\n",
       "      <td>8.4</td>\n",
       "      <td>858.37</td>\n",
       "      <td>(2019)</td>\n",
       "      <td>726032</td>\n",
       "      <td>Anthony Russo</td>\n",
       "      <td>...</td>\n",
       "      <td>English</td>\n",
       "      <td>['USA']</td>\n",
       "      <td>$356000000</td>\n",
       "      <td>$858373000</td>\n",
       "      <td>$357115007</td>\n",
       "      <td>NaN</td>\n",
       "      <td>['1']</td>\n",
       "      <td>65.0</td>\n",
       "      <td>103.0</td>\n",
       "      <td>78.0</td>\n",
       "    </tr>\n",
       "    <tr>\n",
       "      <th>4</th>\n",
       "      <td>tt0068646</td>\n",
       "      <td>The Godfather</td>\n",
       "      <td>175.0</td>\n",
       "      <td>Crime, Drama</td>\n",
       "      <td>R</td>\n",
       "      <td>9.2</td>\n",
       "      <td>134.97</td>\n",
       "      <td>(1972)</td>\n",
       "      <td>1551490</td>\n",
       "      <td>Francis Ford Coppola</td>\n",
       "      <td>...</td>\n",
       "      <td>English</td>\n",
       "      <td>['USA']</td>\n",
       "      <td>$6000000</td>\n",
       "      <td>$134966411</td>\n",
       "      <td>$302393</td>\n",
       "      <td>['3']</td>\n",
       "      <td>NaN</td>\n",
       "      <td>26.0</td>\n",
       "      <td>30.0</td>\n",
       "      <td>100.0</td>\n",
       "    </tr>\n",
       "  </tbody>\n",
       "</table>\n",
       "<p>5 rows × 26 columns</p>\n",
       "</div>"
      ],
      "text/plain": [
       "    movie_id              title  runtime                     genre  \\\n",
       "0  tt7286456              Joker    122.0    Crime, Drama, Thriller   \n",
       "1  tt6751668           Parasite    132.0   Comedy, Drama, Thriller   \n",
       "2  tt8579674               1917    119.0                Drama, War   \n",
       "3  tt4154796  Avengers: Endgame    181.0  Action, Adventure, Drama   \n",
       "4  tt0068646      The Godfather    175.0              Crime, Drama   \n",
       "\n",
       "  certificate  imdb_rating   gross    year    votes              director  \\\n",
       "0           R          8.5  335.45  (2019)   804730         Todd Phillips   \n",
       "1           R          8.6   53.37  (2019)   423230          Bong Joon Ho   \n",
       "2           R          8.3  159.23  (2019)   324071            Sam Mendes   \n",
       "3       PG-13          8.4  858.37  (2019)   726032         Anthony Russo   \n",
       "4           R          9.2  134.97  (1972)  1551490  Francis Ford Coppola   \n",
       "\n",
       "   ... language                                    country      budget  \\\n",
       "0  ...  English                          ['USA', 'Canada']   $55000000   \n",
       "1  ...   Korean                            ['South Korea']   $11400000   \n",
       "2  ...  English  ['USA', 'UK', 'India', 'Spain', 'Canada']   $95000000   \n",
       "3  ...  English                                    ['USA']  $356000000   \n",
       "4  ...  English                                    ['USA']    $6000000   \n",
       "\n",
       "      gross_1 opening_week oscar_win oscar_nom other_win other_nom meta_score  \n",
       "0  $335451311    $96202337     ['2']       NaN      92.0     199.0       59.0  \n",
       "1   $53369749      $393216     ['4']       NaN     262.0     227.0       96.0  \n",
       "2  $159227644      $576216     ['3']       NaN     110.0     161.0       78.0  \n",
       "3  $858373000   $357115007       NaN     ['1']      65.0     103.0       78.0  \n",
       "4  $134966411      $302393     ['3']       NaN      26.0      30.0      100.0  \n",
       "\n",
       "[5 rows x 26 columns]"
      ]
     },
     "execution_count": 8,
     "metadata": {},
     "output_type": "execute_result"
    }
   ],
   "source": [
    "df.head()"
   ]
  },
  {
   "cell_type": "code",
   "execution_count": 9,
   "metadata": {},
   "outputs": [],
   "source": [
    "#drop redundent columns\n",
    "df.drop(columns=['gross', 'metascore'], inplace=True)"
   ]
  },
  {
   "cell_type": "code",
   "execution_count": 10,
   "metadata": {},
   "outputs": [],
   "source": [
    "#replace N/A with nan\n",
    "df = df.replace('N/A',np.nan)"
   ]
  },
  {
   "cell_type": "code",
   "execution_count": 11,
   "metadata": {},
   "outputs": [],
   "source": [
    "#renaming the columns gross_1 with gross\n",
    "df.rename(columns={'gross_1':'gross'}, inplace=True)"
   ]
  },
  {
   "cell_type": "code",
   "execution_count": 12,
   "metadata": {},
   "outputs": [],
   "source": [
    "df.drop_duplicates(inplace = True)"
   ]
  },
  {
   "cell_type": "code",
   "execution_count": 13,
   "metadata": {},
   "outputs": [
    {
     "data": {
      "text/html": [
       "<div>\n",
       "<style scoped>\n",
       "    .dataframe tbody tr th:only-of-type {\n",
       "        vertical-align: middle;\n",
       "    }\n",
       "\n",
       "    .dataframe tbody tr th {\n",
       "        vertical-align: top;\n",
       "    }\n",
       "\n",
       "    .dataframe thead th {\n",
       "        text-align: right;\n",
       "    }\n",
       "</style>\n",
       "<table border=\"1\" class=\"dataframe\">\n",
       "  <thead>\n",
       "    <tr style=\"text-align: right;\">\n",
       "      <th></th>\n",
       "      <th>movie_id</th>\n",
       "      <th>title</th>\n",
       "      <th>runtime</th>\n",
       "      <th>genre</th>\n",
       "      <th>certificate</th>\n",
       "      <th>imdb_rating</th>\n",
       "      <th>year</th>\n",
       "      <th>votes</th>\n",
       "      <th>director</th>\n",
       "      <th>actors</th>\n",
       "      <th>...</th>\n",
       "      <th>language</th>\n",
       "      <th>country</th>\n",
       "      <th>budget</th>\n",
       "      <th>gross</th>\n",
       "      <th>opening_week</th>\n",
       "      <th>oscar_win</th>\n",
       "      <th>oscar_nom</th>\n",
       "      <th>other_win</th>\n",
       "      <th>other_nom</th>\n",
       "      <th>meta_score</th>\n",
       "    </tr>\n",
       "  </thead>\n",
       "  <tbody>\n",
       "    <tr>\n",
       "      <th>0</th>\n",
       "      <td>tt7286456</td>\n",
       "      <td>Joker</td>\n",
       "      <td>122.0</td>\n",
       "      <td>Crime, Drama, Thriller</td>\n",
       "      <td>R</td>\n",
       "      <td>8.5</td>\n",
       "      <td>(2019)</td>\n",
       "      <td>804730</td>\n",
       "      <td>Todd Phillips</td>\n",
       "      <td>['Joaquin Phoenix', 'Robert De Niro', 'Zazie B...</td>\n",
       "      <td>...</td>\n",
       "      <td>English</td>\n",
       "      <td>['USA', 'Canada']</td>\n",
       "      <td>$55000000</td>\n",
       "      <td>$335451311</td>\n",
       "      <td>$96202337</td>\n",
       "      <td>['2']</td>\n",
       "      <td>NaN</td>\n",
       "      <td>92.0</td>\n",
       "      <td>199.0</td>\n",
       "      <td>59.0</td>\n",
       "    </tr>\n",
       "    <tr>\n",
       "      <th>1</th>\n",
       "      <td>tt6751668</td>\n",
       "      <td>Parasite</td>\n",
       "      <td>132.0</td>\n",
       "      <td>Comedy, Drama, Thriller</td>\n",
       "      <td>R</td>\n",
       "      <td>8.6</td>\n",
       "      <td>(2019)</td>\n",
       "      <td>423230</td>\n",
       "      <td>Bong Joon Ho</td>\n",
       "      <td>['Kang-ho Song', 'Sun-kyun Lee', 'Yeo-jeong Jo...</td>\n",
       "      <td>...</td>\n",
       "      <td>Korean</td>\n",
       "      <td>['South Korea']</td>\n",
       "      <td>$11400000</td>\n",
       "      <td>$53369749</td>\n",
       "      <td>$393216</td>\n",
       "      <td>['4']</td>\n",
       "      <td>NaN</td>\n",
       "      <td>262.0</td>\n",
       "      <td>227.0</td>\n",
       "      <td>96.0</td>\n",
       "    </tr>\n",
       "    <tr>\n",
       "      <th>2</th>\n",
       "      <td>tt8579674</td>\n",
       "      <td>1917</td>\n",
       "      <td>119.0</td>\n",
       "      <td>Drama, War</td>\n",
       "      <td>R</td>\n",
       "      <td>8.3</td>\n",
       "      <td>(2019)</td>\n",
       "      <td>324071</td>\n",
       "      <td>Sam Mendes</td>\n",
       "      <td>['Dean-Charles Chapman', 'George MacKay', 'Dan...</td>\n",
       "      <td>...</td>\n",
       "      <td>English</td>\n",
       "      <td>['USA', 'UK', 'India', 'Spain', 'Canada']</td>\n",
       "      <td>$95000000</td>\n",
       "      <td>$159227644</td>\n",
       "      <td>$576216</td>\n",
       "      <td>['3']</td>\n",
       "      <td>NaN</td>\n",
       "      <td>110.0</td>\n",
       "      <td>161.0</td>\n",
       "      <td>78.0</td>\n",
       "    </tr>\n",
       "    <tr>\n",
       "      <th>3</th>\n",
       "      <td>tt4154796</td>\n",
       "      <td>Avengers: Endgame</td>\n",
       "      <td>181.0</td>\n",
       "      <td>Action, Adventure, Drama</td>\n",
       "      <td>PG-13</td>\n",
       "      <td>8.4</td>\n",
       "      <td>(2019)</td>\n",
       "      <td>726032</td>\n",
       "      <td>Anthony Russo</td>\n",
       "      <td>['Joe Russo', 'Robert Downey Jr.', 'Chris Evan...</td>\n",
       "      <td>...</td>\n",
       "      <td>English</td>\n",
       "      <td>['USA']</td>\n",
       "      <td>$356000000</td>\n",
       "      <td>$858373000</td>\n",
       "      <td>$357115007</td>\n",
       "      <td>NaN</td>\n",
       "      <td>['1']</td>\n",
       "      <td>65.0</td>\n",
       "      <td>103.0</td>\n",
       "      <td>78.0</td>\n",
       "    </tr>\n",
       "    <tr>\n",
       "      <th>4</th>\n",
       "      <td>tt0068646</td>\n",
       "      <td>The Godfather</td>\n",
       "      <td>175.0</td>\n",
       "      <td>Crime, Drama</td>\n",
       "      <td>R</td>\n",
       "      <td>9.2</td>\n",
       "      <td>(1972)</td>\n",
       "      <td>1551490</td>\n",
       "      <td>Francis Ford Coppola</td>\n",
       "      <td>['Marlon Brando', 'Al Pacino', 'James Caan', '...</td>\n",
       "      <td>...</td>\n",
       "      <td>English</td>\n",
       "      <td>['USA']</td>\n",
       "      <td>$6000000</td>\n",
       "      <td>$134966411</td>\n",
       "      <td>$302393</td>\n",
       "      <td>['3']</td>\n",
       "      <td>NaN</td>\n",
       "      <td>26.0</td>\n",
       "      <td>30.0</td>\n",
       "      <td>100.0</td>\n",
       "    </tr>\n",
       "  </tbody>\n",
       "</table>\n",
       "<p>5 rows × 24 columns</p>\n",
       "</div>"
      ],
      "text/plain": [
       "    movie_id              title  runtime                     genre  \\\n",
       "0  tt7286456              Joker    122.0    Crime, Drama, Thriller   \n",
       "1  tt6751668           Parasite    132.0   Comedy, Drama, Thriller   \n",
       "2  tt8579674               1917    119.0                Drama, War   \n",
       "3  tt4154796  Avengers: Endgame    181.0  Action, Adventure, Drama   \n",
       "4  tt0068646      The Godfather    175.0              Crime, Drama   \n",
       "\n",
       "  certificate  imdb_rating    year    votes              director  \\\n",
       "0           R          8.5  (2019)   804730         Todd Phillips   \n",
       "1           R          8.6  (2019)   423230          Bong Joon Ho   \n",
       "2           R          8.3  (2019)   324071            Sam Mendes   \n",
       "3       PG-13          8.4  (2019)   726032         Anthony Russo   \n",
       "4           R          9.2  (1972)  1551490  Francis Ford Coppola   \n",
       "\n",
       "                                              actors  ... language  \\\n",
       "0  ['Joaquin Phoenix', 'Robert De Niro', 'Zazie B...  ...  English   \n",
       "1  ['Kang-ho Song', 'Sun-kyun Lee', 'Yeo-jeong Jo...  ...   Korean   \n",
       "2  ['Dean-Charles Chapman', 'George MacKay', 'Dan...  ...  English   \n",
       "3  ['Joe Russo', 'Robert Downey Jr.', 'Chris Evan...  ...  English   \n",
       "4  ['Marlon Brando', 'Al Pacino', 'James Caan', '...  ...  English   \n",
       "\n",
       "                                     country      budget       gross  \\\n",
       "0                          ['USA', 'Canada']   $55000000  $335451311   \n",
       "1                            ['South Korea']   $11400000   $53369749   \n",
       "2  ['USA', 'UK', 'India', 'Spain', 'Canada']   $95000000  $159227644   \n",
       "3                                    ['USA']  $356000000  $858373000   \n",
       "4                                    ['USA']    $6000000  $134966411   \n",
       "\n",
       "  opening_week oscar_win oscar_nom other_win other_nom meta_score  \n",
       "0    $96202337     ['2']       NaN      92.0     199.0       59.0  \n",
       "1      $393216     ['4']       NaN     262.0     227.0       96.0  \n",
       "2      $576216     ['3']       NaN     110.0     161.0       78.0  \n",
       "3   $357115007       NaN     ['1']      65.0     103.0       78.0  \n",
       "4      $302393     ['3']       NaN      26.0      30.0      100.0  \n",
       "\n",
       "[5 rows x 24 columns]"
      ]
     },
     "execution_count": 13,
     "metadata": {},
     "output_type": "execute_result"
    }
   ],
   "source": [
    "df.head()"
   ]
  },
  {
   "cell_type": "code",
   "execution_count": 14,
   "metadata": {},
   "outputs": [
    {
     "data": {
      "text/plain": [
       "movie_id            0\n",
       "title               0\n",
       "runtime             4\n",
       "genre               0\n",
       "certificate       494\n",
       "imdb_rating         0\n",
       "year                0\n",
       "votes               0\n",
       "director            0\n",
       "actors              0\n",
       "summary             0\n",
       "user_review         1\n",
       "critic_review     102\n",
       "writer              4\n",
       "language           19\n",
       "country             1\n",
       "budget           1483\n",
       "gross            1629\n",
       "opening_week     1747\n",
       "oscar_win        2608\n",
       "oscar_nom        2611\n",
       "other_win        1317\n",
       "other_nom        1184\n",
       "meta_score       1664\n",
       "dtype: int64"
      ]
     },
     "execution_count": 14,
     "metadata": {},
     "output_type": "execute_result"
    }
   ],
   "source": [
    "df.isnull().sum()"
   ]
  },
  {
   "cell_type": "markdown",
   "metadata": {},
   "source": [
    "## Year"
   ]
  },
  {
   "cell_type": "code",
   "execution_count": 15,
   "metadata": {},
   "outputs": [
    {
     "data": {
      "text/plain": [
       "0       (2019)\n",
       "1       (2019)\n",
       "2       (2019)\n",
       "3       (2019)\n",
       "4       (1972)\n",
       "         ...  \n",
       "2829    (2014)\n",
       "2830    (2009)\n",
       "2831    (2016)\n",
       "2832    (1980)\n",
       "2833    (1998)\n",
       "Name: year, Length: 2834, dtype: object"
      ]
     },
     "execution_count": 15,
     "metadata": {},
     "output_type": "execute_result"
    }
   ],
   "source": [
    "df.year"
   ]
  },
  {
   "cell_type": "code",
   "execution_count": 16,
   "metadata": {},
   "outputs": [],
   "source": [
    "df.year = df.year.apply(lambda x: int(re.findall(\"\\d{4}\",x)[0]))"
   ]
  },
  {
   "cell_type": "code",
   "execution_count": 17,
   "metadata": {},
   "outputs": [
    {
     "data": {
      "text/plain": [
       "0       2019\n",
       "1       2019\n",
       "2       2019\n",
       "3       2019\n",
       "4       1972\n",
       "        ... \n",
       "2829    2014\n",
       "2830    2009\n",
       "2831    2016\n",
       "2832    1980\n",
       "2833    1998\n",
       "Name: year, Length: 2834, dtype: int64"
      ]
     },
     "execution_count": 17,
     "metadata": {},
     "output_type": "execute_result"
    }
   ],
   "source": [
    "df.year"
   ]
  },
  {
   "cell_type": "markdown",
   "metadata": {},
   "source": [
    "## Runtime"
   ]
  },
  {
   "cell_type": "code",
   "execution_count": 18,
   "metadata": {},
   "outputs": [],
   "source": [
    "# fill the 4 missing values with the average. \n",
    "df.runtime.fillna(df.runtime.mean(), inplace=True)"
   ]
  },
  {
   "cell_type": "markdown",
   "metadata": {},
   "source": [
    "## Awards"
   ]
  },
  {
   "cell_type": "code",
   "execution_count": 19,
   "metadata": {},
   "outputs": [
    {
     "data": {
      "text/plain": [
       "0       ['2']\n",
       "1       ['4']\n",
       "2       ['3']\n",
       "3         NaN\n",
       "4       ['3']\n",
       "        ...  \n",
       "2829      NaN\n",
       "2830      NaN\n",
       "2831      NaN\n",
       "2832      NaN\n",
       "2833      NaN\n",
       "Name: oscar_win, Length: 2834, dtype: object"
      ]
     },
     "execution_count": 19,
     "metadata": {},
     "output_type": "execute_result"
    }
   ],
   "source": [
    "df.oscar_win"
   ]
  },
  {
   "cell_type": "code",
   "execution_count": 20,
   "metadata": {},
   "outputs": [],
   "source": [
    "df.oscar_win = df.oscar_win.str.extract(r'(\\d+)')"
   ]
  },
  {
   "cell_type": "code",
   "execution_count": 21,
   "metadata": {},
   "outputs": [
    {
     "data": {
      "text/plain": [
       "0         2\n",
       "1         4\n",
       "2         3\n",
       "3       NaN\n",
       "4         3\n",
       "       ... \n",
       "2829    NaN\n",
       "2830    NaN\n",
       "2831    NaN\n",
       "2832    NaN\n",
       "2833    NaN\n",
       "Name: oscar_win, Length: 2834, dtype: object"
      ]
     },
     "execution_count": 21,
     "metadata": {},
     "output_type": "execute_result"
    }
   ],
   "source": [
    "df.oscar_win"
   ]
  },
  {
   "cell_type": "code",
   "execution_count": 22,
   "metadata": {},
   "outputs": [],
   "source": [
    "df.oscar_win.fillna(0, inplace=True)"
   ]
  },
  {
   "cell_type": "code",
   "execution_count": 23,
   "metadata": {},
   "outputs": [
    {
     "data": {
      "text/plain": [
       "0       2\n",
       "1       4\n",
       "2       3\n",
       "3       0\n",
       "4       3\n",
       "       ..\n",
       "2829    0\n",
       "2830    0\n",
       "2831    0\n",
       "2832    0\n",
       "2833    0\n",
       "Name: oscar_win, Length: 2834, dtype: object"
      ]
     },
     "execution_count": 23,
     "metadata": {},
     "output_type": "execute_result"
    }
   ],
   "source": [
    "df.oscar_win"
   ]
  },
  {
   "cell_type": "code",
   "execution_count": 24,
   "metadata": {},
   "outputs": [],
   "source": [
    "df.oscar_nom = df.oscar_nom.str.extract(r'(\\d+)')\n"
   ]
  },
  {
   "cell_type": "code",
   "execution_count": 25,
   "metadata": {},
   "outputs": [],
   "source": [
    "df.oscar_nom.fillna(0, inplace=True)"
   ]
  },
  {
   "cell_type": "code",
   "execution_count": 26,
   "metadata": {},
   "outputs": [],
   "source": [
    "df.other_win.fillna(0, inplace=True)\n",
    "df.other_nom.fillna(0, inplace=True)"
   ]
  },
  {
   "cell_type": "code",
   "execution_count": 28,
   "metadata": {},
   "outputs": [],
   "source": [
    "#convert it to int \n",
    "df.oscar_win = df.oscar_win.astype(int)\n",
    "df.oscar_nom = df.oscar_nom.astype(int)\n",
    "df.other_win = df.other_win.apply(lambda x: int(x))\n",
    "df.other_nom = df.other_nom.apply(lambda x: int(x))"
   ]
  },
  {
   "cell_type": "markdown",
   "metadata": {},
   "source": [
    "## Country "
   ]
  },
  {
   "cell_type": "code",
   "execution_count": 29,
   "metadata": {},
   "outputs": [
    {
     "data": {
      "text/plain": [
       "1"
      ]
     },
     "execution_count": 29,
     "metadata": {},
     "output_type": "execute_result"
    }
   ],
   "source": [
    "df.country.isnull().sum()"
   ]
  },
  {
   "cell_type": "code",
   "execution_count": 37,
   "metadata": {},
   "outputs": [
    {
     "data": {
      "text/plain": [
       "['USA']                           1199\n",
       "['India']                          386\n",
       "['UK']                              94\n",
       "['Japan']                           78\n",
       "['UK', 'USA']                       51\n",
       "                                  ... \n",
       "['UK', 'India', 'France']            1\n",
       "['USA', 'Hong Kong', 'Canada']       1\n",
       "['Soviet Union', 'Japan']            1\n",
       "['Canada', 'France', 'Japan']        1\n",
       "['Russia', 'China', 'USA']           1\n",
       "Name: country, Length: 398, dtype: int64"
      ]
     },
     "execution_count": 37,
     "metadata": {},
     "output_type": "execute_result"
    }
   ],
   "source": [
    "df['country'].value_counts()"
   ]
  },
  {
   "cell_type": "code",
   "execution_count": 38,
   "metadata": {},
   "outputs": [],
   "source": [
    "df.country.fillna('USA', inplace = True)"
   ]
  },
  {
   "cell_type": "code",
   "execution_count": 39,
   "metadata": {},
   "outputs": [],
   "source": [
    "def cleaner(df, function):\n",
    "    df.loc[:, function] = df.loc[:, function].apply(lambda x: x.replace(\"[\", \"\").replace(\"]\", \"\").replace(\"'\", \"\"))\n",
    "    return df.loc[:, function]"
   ]
  },
  {
   "cell_type": "code",
   "execution_count": 40,
   "metadata": {},
   "outputs": [],
   "source": [
    "df.country = cleaner(df,'country')"
   ]
  },
  {
   "cell_type": "code",
   "execution_count": 41,
   "metadata": {},
   "outputs": [
    {
     "data": {
      "text/plain": [
       "0                         USA, Canada\n",
       "1                         South Korea\n",
       "2       USA, UK, India, Spain, Canada\n",
       "3                                 USA\n",
       "4                                 USA\n",
       "                    ...              \n",
       "2829                           Canada\n",
       "2830                            Italy\n",
       "2831                     South Africa\n",
       "2832                              USA\n",
       "2833                              USA\n",
       "Name: country, Length: 2834, dtype: object"
      ]
     },
     "execution_count": 41,
     "metadata": {},
     "output_type": "execute_result"
    }
   ],
   "source": [
    "df.country"
   ]
  },
  {
   "cell_type": "markdown",
   "metadata": {},
   "source": [
    "## Meta Score"
   ]
  },
  {
   "cell_type": "code",
   "execution_count": 42,
   "metadata": {},
   "outputs": [
    {
     "data": {
      "text/plain": [
       "1664"
      ]
     },
     "execution_count": 42,
     "metadata": {},
     "output_type": "execute_result"
    }
   ],
   "source": [
    "df.meta_score.isnull().sum()"
   ]
  },
  {
   "cell_type": "code",
   "execution_count": 43,
   "metadata": {},
   "outputs": [],
   "source": [
    "df.meta_score.fillna(df.meta_score.mean(), inplace=True)"
   ]
  },
  {
   "cell_type": "markdown",
   "metadata": {},
   "source": [
    "## Languages"
   ]
  },
  {
   "cell_type": "code",
   "execution_count": 45,
   "metadata": {},
   "outputs": [
    {
     "data": {
      "text/plain": [
       "19"
      ]
     },
     "execution_count": 45,
     "metadata": {},
     "output_type": "execute_result"
    }
   ],
   "source": [
    "df.language.isnull().sum()"
   ]
  },
  {
   "cell_type": "code",
   "execution_count": 46,
   "metadata": {},
   "outputs": [
    {
     "data": {
      "text/plain": [
       "English           1824\n",
       "Hindi              151\n",
       "Japanese            82\n",
       "Tamil               81\n",
       "French              71\n",
       "                  ... \n",
       "Latvian              1\n",
       "Sign Languages       1\n",
       "Filipino             1\n",
       "Belarusian           1\n",
       "Hebrew               1\n",
       "Name: language, Length: 62, dtype: int64"
      ]
     },
     "execution_count": 46,
     "metadata": {},
     "output_type": "execute_result"
    }
   ],
   "source": [
    "df['language'].value_counts()"
   ]
  },
  {
   "cell_type": "code",
   "execution_count": 47,
   "metadata": {},
   "outputs": [],
   "source": [
    "df.language.fillna(\"English\", inplace=True)\n"
   ]
  },
  {
   "cell_type": "markdown",
   "metadata": {},
   "source": [
    "## User_review"
   ]
  },
  {
   "cell_type": "code",
   "execution_count": 48,
   "metadata": {},
   "outputs": [
    {
     "data": {
      "text/plain": [
       "1"
      ]
     },
     "execution_count": 48,
     "metadata": {},
     "output_type": "execute_result"
    }
   ],
   "source": [
    "df.user_review.isnull().sum()"
   ]
  },
  {
   "cell_type": "code",
   "execution_count": 49,
   "metadata": {},
   "outputs": [],
   "source": [
    "df.user_review.fillna('0', inplace = True)"
   ]
  },
  {
   "cell_type": "code",
   "execution_count": 50,
   "metadata": {},
   "outputs": [],
   "source": [
    "df.user_review = df.user_review.apply(lambda x: int(x.replace(\",\", \"\").split(\" \")[0].strip()))\n"
   ]
  },
  {
   "cell_type": "markdown",
   "metadata": {},
   "source": [
    "## Critics review"
   ]
  },
  {
   "cell_type": "code",
   "execution_count": 51,
   "metadata": {},
   "outputs": [
    {
     "data": {
      "text/plain": [
       "102"
      ]
     },
     "execution_count": 51,
     "metadata": {},
     "output_type": "execute_result"
    }
   ],
   "source": [
    "df.critic_review.isnull().sum()"
   ]
  },
  {
   "cell_type": "code",
   "execution_count": 52,
   "metadata": {},
   "outputs": [],
   "source": [
    "df.critic_review = df.critic_review.str.extract(r'(\\d+)')\n",
    "\n",
    "df.critic_review.fillna(0, inplace=True)"
   ]
  },
  {
   "cell_type": "markdown",
   "metadata": {},
   "source": [
    "## Budget"
   ]
  },
  {
   "cell_type": "code",
   "execution_count": 53,
   "metadata": {},
   "outputs": [
    {
     "data": {
      "text/plain": [
       "1483"
      ]
     },
     "execution_count": 53,
     "metadata": {},
     "output_type": "execute_result"
    }
   ],
   "source": [
    "df.budget.isna().sum()"
   ]
  },
  {
   "cell_type": "code",
   "execution_count": 54,
   "metadata": {},
   "outputs": [
    {
     "data": {
      "text/plain": [
       "0        $55000000\n",
       "1        $11400000\n",
       "2        $95000000\n",
       "3       $356000000\n",
       "4         $6000000\n",
       "           ...    \n",
       "2829           NaN\n",
       "2830     $14000000\n",
       "2831           NaN\n",
       "2832      $2000000\n",
       "2833      $6000000\n",
       "Name: budget, Length: 2834, dtype: object"
      ]
     },
     "execution_count": 54,
     "metadata": {},
     "output_type": "execute_result"
    }
   ],
   "source": [
    "df.budget"
   ]
  },
  {
   "cell_type": "code",
   "execution_count": 55,
   "metadata": {},
   "outputs": [],
   "source": [
    "df.budget = df.budget.str.extract(r'(\\d+)')"
   ]
  },
  {
   "cell_type": "code",
   "execution_count": 56,
   "metadata": {},
   "outputs": [
    {
     "data": {
      "text/plain": [
       "0        55000000\n",
       "1        11400000\n",
       "2        95000000\n",
       "3       356000000\n",
       "4         6000000\n",
       "          ...    \n",
       "2829          NaN\n",
       "2830     14000000\n",
       "2831          NaN\n",
       "2832      2000000\n",
       "2833      6000000\n",
       "Name: budget, Length: 2834, dtype: object"
      ]
     },
     "execution_count": 56,
     "metadata": {},
     "output_type": "execute_result"
    }
   ],
   "source": [
    "df.budget"
   ]
  },
  {
   "cell_type": "code",
   "execution_count": 57,
   "metadata": {},
   "outputs": [],
   "source": [
    "df.budget.fillna('0', inplace = True)"
   ]
  },
  {
   "cell_type": "code",
   "execution_count": 58,
   "metadata": {},
   "outputs": [],
   "source": [
    "df.budget = df.budget.apply(lambda x: int(x))"
   ]
  },
  {
   "cell_type": "code",
   "execution_count": 60,
   "metadata": {},
   "outputs": [
    {
     "data": {
      "text/plain": [
       "0           1485\n",
       "20000000      54\n",
       "5000000       51\n",
       "10000000      44\n",
       "3000000       38\n",
       "            ... \n",
       "829000         1\n",
       "72000000       1\n",
       "1453000        1\n",
       "140000         1\n",
       "46667761       1\n",
       "Name: budget, Length: 332, dtype: int64"
      ]
     },
     "execution_count": 60,
     "metadata": {},
     "output_type": "execute_result"
    }
   ],
   "source": [
    "df.budget.value_counts()"
   ]
  },
  {
   "cell_type": "code",
   "execution_count": 61,
   "metadata": {},
   "outputs": [],
   "source": [
    "df.budget = df.budget.replace(0, df[df.budget != 0].budget.median())"
   ]
  },
  {
   "cell_type": "code",
   "execution_count": 62,
   "metadata": {},
   "outputs": [
    {
     "data": {
      "text/plain": [
       "0        55000000\n",
       "1        11400000\n",
       "2        95000000\n",
       "3       356000000\n",
       "4         6000000\n",
       "          ...    \n",
       "2829     10000000\n",
       "2830     14000000\n",
       "2831     10000000\n",
       "2832      2000000\n",
       "2833      6000000\n",
       "Name: budget, Length: 2834, dtype: int64"
      ]
     },
     "execution_count": 62,
     "metadata": {},
     "output_type": "execute_result"
    }
   ],
   "source": [
    "df.budget"
   ]
  },
  {
   "cell_type": "markdown",
   "metadata": {},
   "source": [
    "## gross"
   ]
  },
  {
   "cell_type": "code",
   "execution_count": 63,
   "metadata": {},
   "outputs": [
    {
     "data": {
      "text/plain": [
       "1629"
      ]
     },
     "execution_count": 63,
     "metadata": {},
     "output_type": "execute_result"
    }
   ],
   "source": [
    "df.gross.isnull().sum()"
   ]
  },
  {
   "cell_type": "code",
   "execution_count": 64,
   "metadata": {},
   "outputs": [],
   "source": [
    "df.gross = df.gross.str.extract(r'(\\d+)')"
   ]
  },
  {
   "cell_type": "code",
   "execution_count": 65,
   "metadata": {},
   "outputs": [],
   "source": [
    "df.gross.fillna('0', inplace = True)"
   ]
  },
  {
   "cell_type": "code",
   "execution_count": 66,
   "metadata": {},
   "outputs": [],
   "source": [
    "df.gross = df.gross.apply(lambda x: int(x))"
   ]
  },
  {
   "cell_type": "code",
   "execution_count": 67,
   "metadata": {},
   "outputs": [],
   "source": [
    "df.gross = df.gross.replace(0, df[df.gross != 0].gross.median())"
   ]
  },
  {
   "cell_type": "markdown",
   "metadata": {},
   "source": [
    "## Opening weak"
   ]
  },
  {
   "cell_type": "code",
   "execution_count": 68,
   "metadata": {},
   "outputs": [],
   "source": [
    "df.opening_week = df.opening_week.str.extract(r'(\\d+)')\n",
    "\n",
    "df.opening_week.fillna('0', inplace = True)\n",
    "\n",
    "df.opening_week = df.opening_week.apply(lambda x: int(x))\n",
    "\n",
    "## replacing the 0's with budget median value not including 0's\n",
    "df.opening_week = df.opening_week.replace(0, df[df.gross != 0].opening_week.median())"
   ]
  },
  {
   "cell_type": "markdown",
   "metadata": {},
   "source": [
    "## Certificate"
   ]
  },
  {
   "cell_type": "code",
   "execution_count": 69,
   "metadata": {},
   "outputs": [
    {
     "data": {
      "text/plain": [
       "494"
      ]
     },
     "execution_count": 69,
     "metadata": {},
     "output_type": "execute_result"
    }
   ],
   "source": [
    "df.certificate.isnull().sum()\n"
   ]
  },
  {
   "cell_type": "code",
   "execution_count": 70,
   "metadata": {},
   "outputs": [],
   "source": [
    "df.certificate.fillna('Not Rated', inplace = True)\n",
    "df.certificate.replace(\"Not Rated\", \"Unrated\", inplace=True)"
   ]
  },
  {
   "cell_type": "code",
   "execution_count": 71,
   "metadata": {},
   "outputs": [
    {
     "data": {
      "text/html": [
       "<div>\n",
       "<style scoped>\n",
       "    .dataframe tbody tr th:only-of-type {\n",
       "        vertical-align: middle;\n",
       "    }\n",
       "\n",
       "    .dataframe tbody tr th {\n",
       "        vertical-align: top;\n",
       "    }\n",
       "\n",
       "    .dataframe thead th {\n",
       "        text-align: right;\n",
       "    }\n",
       "</style>\n",
       "<table border=\"1\" class=\"dataframe\">\n",
       "  <thead>\n",
       "    <tr style=\"text-align: right;\">\n",
       "      <th></th>\n",
       "      <th>movie_id</th>\n",
       "      <th>title</th>\n",
       "      <th>runtime</th>\n",
       "      <th>genre</th>\n",
       "      <th>certificate</th>\n",
       "      <th>imdb_rating</th>\n",
       "      <th>year</th>\n",
       "      <th>votes</th>\n",
       "      <th>director</th>\n",
       "      <th>actors</th>\n",
       "      <th>...</th>\n",
       "      <th>language</th>\n",
       "      <th>country</th>\n",
       "      <th>budget</th>\n",
       "      <th>gross</th>\n",
       "      <th>opening_week</th>\n",
       "      <th>oscar_win</th>\n",
       "      <th>oscar_nom</th>\n",
       "      <th>other_win</th>\n",
       "      <th>other_nom</th>\n",
       "      <th>meta_score</th>\n",
       "    </tr>\n",
       "  </thead>\n",
       "  <tbody>\n",
       "    <tr>\n",
       "      <th>0</th>\n",
       "      <td>tt7286456</td>\n",
       "      <td>Joker</td>\n",
       "      <td>122.0</td>\n",
       "      <td>Crime, Drama, Thriller</td>\n",
       "      <td>R</td>\n",
       "      <td>8.5</td>\n",
       "      <td>2019</td>\n",
       "      <td>804730</td>\n",
       "      <td>Todd Phillips</td>\n",
       "      <td>['Joaquin Phoenix', 'Robert De Niro', 'Zazie B...</td>\n",
       "      <td>...</td>\n",
       "      <td>English</td>\n",
       "      <td>USA, Canada</td>\n",
       "      <td>55000000</td>\n",
       "      <td>335451311</td>\n",
       "      <td>96202337</td>\n",
       "      <td>2</td>\n",
       "      <td>0</td>\n",
       "      <td>92</td>\n",
       "      <td>199</td>\n",
       "      <td>59.0</td>\n",
       "    </tr>\n",
       "    <tr>\n",
       "      <th>1</th>\n",
       "      <td>tt6751668</td>\n",
       "      <td>Parasite</td>\n",
       "      <td>132.0</td>\n",
       "      <td>Comedy, Drama, Thriller</td>\n",
       "      <td>R</td>\n",
       "      <td>8.6</td>\n",
       "      <td>2019</td>\n",
       "      <td>423230</td>\n",
       "      <td>Bong Joon Ho</td>\n",
       "      <td>['Kang-ho Song', 'Sun-kyun Lee', 'Yeo-jeong Jo...</td>\n",
       "      <td>...</td>\n",
       "      <td>Korean</td>\n",
       "      <td>South Korea</td>\n",
       "      <td>11400000</td>\n",
       "      <td>53369749</td>\n",
       "      <td>393216</td>\n",
       "      <td>4</td>\n",
       "      <td>0</td>\n",
       "      <td>262</td>\n",
       "      <td>227</td>\n",
       "      <td>96.0</td>\n",
       "    </tr>\n",
       "    <tr>\n",
       "      <th>2</th>\n",
       "      <td>tt8579674</td>\n",
       "      <td>1917</td>\n",
       "      <td>119.0</td>\n",
       "      <td>Drama, War</td>\n",
       "      <td>R</td>\n",
       "      <td>8.3</td>\n",
       "      <td>2019</td>\n",
       "      <td>324071</td>\n",
       "      <td>Sam Mendes</td>\n",
       "      <td>['Dean-Charles Chapman', 'George MacKay', 'Dan...</td>\n",
       "      <td>...</td>\n",
       "      <td>English</td>\n",
       "      <td>USA, UK, India, Spain, Canada</td>\n",
       "      <td>95000000</td>\n",
       "      <td>159227644</td>\n",
       "      <td>576216</td>\n",
       "      <td>3</td>\n",
       "      <td>0</td>\n",
       "      <td>110</td>\n",
       "      <td>161</td>\n",
       "      <td>78.0</td>\n",
       "    </tr>\n",
       "    <tr>\n",
       "      <th>3</th>\n",
       "      <td>tt4154796</td>\n",
       "      <td>Avengers: Endgame</td>\n",
       "      <td>181.0</td>\n",
       "      <td>Action, Adventure, Drama</td>\n",
       "      <td>PG-13</td>\n",
       "      <td>8.4</td>\n",
       "      <td>2019</td>\n",
       "      <td>726032</td>\n",
       "      <td>Anthony Russo</td>\n",
       "      <td>['Joe Russo', 'Robert Downey Jr.', 'Chris Evan...</td>\n",
       "      <td>...</td>\n",
       "      <td>English</td>\n",
       "      <td>USA</td>\n",
       "      <td>356000000</td>\n",
       "      <td>858373000</td>\n",
       "      <td>357115007</td>\n",
       "      <td>0</td>\n",
       "      <td>1</td>\n",
       "      <td>65</td>\n",
       "      <td>103</td>\n",
       "      <td>78.0</td>\n",
       "    </tr>\n",
       "    <tr>\n",
       "      <th>4</th>\n",
       "      <td>tt0068646</td>\n",
       "      <td>The Godfather</td>\n",
       "      <td>175.0</td>\n",
       "      <td>Crime, Drama</td>\n",
       "      <td>R</td>\n",
       "      <td>9.2</td>\n",
       "      <td>1972</td>\n",
       "      <td>1551490</td>\n",
       "      <td>Francis Ford Coppola</td>\n",
       "      <td>['Marlon Brando', 'Al Pacino', 'James Caan', '...</td>\n",
       "      <td>...</td>\n",
       "      <td>English</td>\n",
       "      <td>USA</td>\n",
       "      <td>6000000</td>\n",
       "      <td>134966411</td>\n",
       "      <td>302393</td>\n",
       "      <td>3</td>\n",
       "      <td>0</td>\n",
       "      <td>26</td>\n",
       "      <td>30</td>\n",
       "      <td>100.0</td>\n",
       "    </tr>\n",
       "  </tbody>\n",
       "</table>\n",
       "<p>5 rows × 24 columns</p>\n",
       "</div>"
      ],
      "text/plain": [
       "    movie_id              title  runtime                     genre  \\\n",
       "0  tt7286456              Joker    122.0    Crime, Drama, Thriller   \n",
       "1  tt6751668           Parasite    132.0   Comedy, Drama, Thriller   \n",
       "2  tt8579674               1917    119.0                Drama, War   \n",
       "3  tt4154796  Avengers: Endgame    181.0  Action, Adventure, Drama   \n",
       "4  tt0068646      The Godfather    175.0              Crime, Drama   \n",
       "\n",
       "  certificate  imdb_rating  year    votes              director  \\\n",
       "0           R          8.5  2019   804730         Todd Phillips   \n",
       "1           R          8.6  2019   423230          Bong Joon Ho   \n",
       "2           R          8.3  2019   324071            Sam Mendes   \n",
       "3       PG-13          8.4  2019   726032         Anthony Russo   \n",
       "4           R          9.2  1972  1551490  Francis Ford Coppola   \n",
       "\n",
       "                                              actors  ... language  \\\n",
       "0  ['Joaquin Phoenix', 'Robert De Niro', 'Zazie B...  ...  English   \n",
       "1  ['Kang-ho Song', 'Sun-kyun Lee', 'Yeo-jeong Jo...  ...   Korean   \n",
       "2  ['Dean-Charles Chapman', 'George MacKay', 'Dan...  ...  English   \n",
       "3  ['Joe Russo', 'Robert Downey Jr.', 'Chris Evan...  ...  English   \n",
       "4  ['Marlon Brando', 'Al Pacino', 'James Caan', '...  ...  English   \n",
       "\n",
       "                         country     budget      gross opening_week oscar_win  \\\n",
       "0                    USA, Canada   55000000  335451311     96202337         2   \n",
       "1                    South Korea   11400000   53369749       393216         4   \n",
       "2  USA, UK, India, Spain, Canada   95000000  159227644       576216         3   \n",
       "3                            USA  356000000  858373000    357115007         0   \n",
       "4                            USA    6000000  134966411       302393         3   \n",
       "\n",
       "   oscar_nom  other_win  other_nom  meta_score  \n",
       "0          0         92        199        59.0  \n",
       "1          0        262        227        96.0  \n",
       "2          0        110        161        78.0  \n",
       "3          1         65        103        78.0  \n",
       "4          0         26         30       100.0  \n",
       "\n",
       "[5 rows x 24 columns]"
      ]
     },
     "execution_count": 71,
     "metadata": {},
     "output_type": "execute_result"
    }
   ],
   "source": [
    "df.head()"
   ]
  },
  {
   "cell_type": "markdown",
   "metadata": {},
   "source": [
    "## Genre"
   ]
  },
  {
   "cell_type": "code",
   "execution_count": 73,
   "metadata": {},
   "outputs": [],
   "source": [
    "def custom_encoder(df,feature):\n",
    "    unique_feature = []\n",
    "    for i in df.loc[:,feature]:\n",
    "        a = i.split(\",\")\n",
    "        for b in a:\n",
    "            if b.strip() not in unique_feature:\n",
    "                unique_feature.append(b.strip())\n",
    "    cleaned_feature = []\n",
    "    for i in df.loc[:,feature]:\n",
    "        a = i.split(\",\")\n",
    "        c =[]\n",
    "        for b in a:\n",
    "            c.append(b.strip())\n",
    "        cleaned_feature.append(c)\n",
    "    for i in unique_feature:\n",
    "        df[i] = [1 if i in x else 0 for x in cleaned_feature]\n",
    "    df.drop(columns=[feature], inplace = True)\n",
    "    return df\n",
    "    \n",
    "            \n",
    "df = custom_encoder(df, \"genre\")\n"
   ]
  },
  {
   "cell_type": "code",
   "execution_count": 77,
   "metadata": {},
   "outputs": [
    {
     "data": {
      "text/html": [
       "<div>\n",
       "<style scoped>\n",
       "    .dataframe tbody tr th:only-of-type {\n",
       "        vertical-align: middle;\n",
       "    }\n",
       "\n",
       "    .dataframe tbody tr th {\n",
       "        vertical-align: top;\n",
       "    }\n",
       "\n",
       "    .dataframe thead th {\n",
       "        text-align: right;\n",
       "    }\n",
       "</style>\n",
       "<table border=\"1\" class=\"dataframe\">\n",
       "  <thead>\n",
       "    <tr style=\"text-align: right;\">\n",
       "      <th></th>\n",
       "      <th>movie_id</th>\n",
       "      <th>title</th>\n",
       "      <th>runtime</th>\n",
       "      <th>certificate</th>\n",
       "      <th>imdb_rating</th>\n",
       "      <th>year</th>\n",
       "      <th>votes</th>\n",
       "      <th>director</th>\n",
       "      <th>actors</th>\n",
       "      <th>summary</th>\n",
       "      <th>...</th>\n",
       "      <th>Family</th>\n",
       "      <th>History</th>\n",
       "      <th>Music</th>\n",
       "      <th>Animation</th>\n",
       "      <th>Sport</th>\n",
       "      <th>Musical</th>\n",
       "      <th>Film-Noir</th>\n",
       "      <th>Documentary</th>\n",
       "      <th>News</th>\n",
       "      <th>Short</th>\n",
       "    </tr>\n",
       "  </thead>\n",
       "  <tbody>\n",
       "    <tr>\n",
       "      <th>0</th>\n",
       "      <td>tt7286456</td>\n",
       "      <td>Joker</td>\n",
       "      <td>122.0</td>\n",
       "      <td>R</td>\n",
       "      <td>8.5</td>\n",
       "      <td>2019</td>\n",
       "      <td>804730</td>\n",
       "      <td>Todd Phillips</td>\n",
       "      <td>['Joaquin Phoenix', 'Robert De Niro', 'Zazie B...</td>\n",
       "      <td>In Gotham City, mentally troubled comedian Art...</td>\n",
       "      <td>...</td>\n",
       "      <td>0</td>\n",
       "      <td>0</td>\n",
       "      <td>0</td>\n",
       "      <td>0</td>\n",
       "      <td>0</td>\n",
       "      <td>0</td>\n",
       "      <td>0</td>\n",
       "      <td>0</td>\n",
       "      <td>0</td>\n",
       "      <td>0</td>\n",
       "    </tr>\n",
       "    <tr>\n",
       "      <th>1</th>\n",
       "      <td>tt6751668</td>\n",
       "      <td>Parasite</td>\n",
       "      <td>132.0</td>\n",
       "      <td>R</td>\n",
       "      <td>8.6</td>\n",
       "      <td>2019</td>\n",
       "      <td>423230</td>\n",
       "      <td>Bong Joon Ho</td>\n",
       "      <td>['Kang-ho Song', 'Sun-kyun Lee', 'Yeo-jeong Jo...</td>\n",
       "      <td>Greed and class discrimination threaten the ne...</td>\n",
       "      <td>...</td>\n",
       "      <td>0</td>\n",
       "      <td>0</td>\n",
       "      <td>0</td>\n",
       "      <td>0</td>\n",
       "      <td>0</td>\n",
       "      <td>0</td>\n",
       "      <td>0</td>\n",
       "      <td>0</td>\n",
       "      <td>0</td>\n",
       "      <td>0</td>\n",
       "    </tr>\n",
       "    <tr>\n",
       "      <th>2</th>\n",
       "      <td>tt8579674</td>\n",
       "      <td>1917</td>\n",
       "      <td>119.0</td>\n",
       "      <td>R</td>\n",
       "      <td>8.3</td>\n",
       "      <td>2019</td>\n",
       "      <td>324071</td>\n",
       "      <td>Sam Mendes</td>\n",
       "      <td>['Dean-Charles Chapman', 'George MacKay', 'Dan...</td>\n",
       "      <td>April 6th, 1917. As a regiment assembles to wa...</td>\n",
       "      <td>...</td>\n",
       "      <td>0</td>\n",
       "      <td>0</td>\n",
       "      <td>0</td>\n",
       "      <td>0</td>\n",
       "      <td>0</td>\n",
       "      <td>0</td>\n",
       "      <td>0</td>\n",
       "      <td>0</td>\n",
       "      <td>0</td>\n",
       "      <td>0</td>\n",
       "    </tr>\n",
       "    <tr>\n",
       "      <th>3</th>\n",
       "      <td>tt4154796</td>\n",
       "      <td>Avengers: Endgame</td>\n",
       "      <td>181.0</td>\n",
       "      <td>PG-13</td>\n",
       "      <td>8.4</td>\n",
       "      <td>2019</td>\n",
       "      <td>726032</td>\n",
       "      <td>Anthony Russo</td>\n",
       "      <td>['Joe Russo', 'Robert Downey Jr.', 'Chris Evan...</td>\n",
       "      <td>After the devastating events of Avengers: Infi...</td>\n",
       "      <td>...</td>\n",
       "      <td>0</td>\n",
       "      <td>0</td>\n",
       "      <td>0</td>\n",
       "      <td>0</td>\n",
       "      <td>0</td>\n",
       "      <td>0</td>\n",
       "      <td>0</td>\n",
       "      <td>0</td>\n",
       "      <td>0</td>\n",
       "      <td>0</td>\n",
       "    </tr>\n",
       "    <tr>\n",
       "      <th>4</th>\n",
       "      <td>tt0068646</td>\n",
       "      <td>The Godfather</td>\n",
       "      <td>175.0</td>\n",
       "      <td>R</td>\n",
       "      <td>9.2</td>\n",
       "      <td>1972</td>\n",
       "      <td>1551490</td>\n",
       "      <td>Francis Ford Coppola</td>\n",
       "      <td>['Marlon Brando', 'Al Pacino', 'James Caan', '...</td>\n",
       "      <td>The aging patriarch of an organized crime dyna...</td>\n",
       "      <td>...</td>\n",
       "      <td>0</td>\n",
       "      <td>0</td>\n",
       "      <td>0</td>\n",
       "      <td>0</td>\n",
       "      <td>0</td>\n",
       "      <td>0</td>\n",
       "      <td>0</td>\n",
       "      <td>0</td>\n",
       "      <td>0</td>\n",
       "      <td>0</td>\n",
       "    </tr>\n",
       "  </tbody>\n",
       "</table>\n",
       "<p>5 rows × 47 columns</p>\n",
       "</div>"
      ],
      "text/plain": [
       "    movie_id              title  runtime certificate  imdb_rating  year  \\\n",
       "0  tt7286456              Joker    122.0           R          8.5  2019   \n",
       "1  tt6751668           Parasite    132.0           R          8.6  2019   \n",
       "2  tt8579674               1917    119.0           R          8.3  2019   \n",
       "3  tt4154796  Avengers: Endgame    181.0       PG-13          8.4  2019   \n",
       "4  tt0068646      The Godfather    175.0           R          9.2  1972   \n",
       "\n",
       "     votes              director  \\\n",
       "0   804730         Todd Phillips   \n",
       "1   423230          Bong Joon Ho   \n",
       "2   324071            Sam Mendes   \n",
       "3   726032         Anthony Russo   \n",
       "4  1551490  Francis Ford Coppola   \n",
       "\n",
       "                                              actors  \\\n",
       "0  ['Joaquin Phoenix', 'Robert De Niro', 'Zazie B...   \n",
       "1  ['Kang-ho Song', 'Sun-kyun Lee', 'Yeo-jeong Jo...   \n",
       "2  ['Dean-Charles Chapman', 'George MacKay', 'Dan...   \n",
       "3  ['Joe Russo', 'Robert Downey Jr.', 'Chris Evan...   \n",
       "4  ['Marlon Brando', 'Al Pacino', 'James Caan', '...   \n",
       "\n",
       "                                             summary  ...  Family History  \\\n",
       "0  In Gotham City, mentally troubled comedian Art...  ...       0       0   \n",
       "1  Greed and class discrimination threaten the ne...  ...       0       0   \n",
       "2  April 6th, 1917. As a regiment assembles to wa...  ...       0       0   \n",
       "3  After the devastating events of Avengers: Infi...  ...       0       0   \n",
       "4  The aging patriarch of an organized crime dyna...  ...       0       0   \n",
       "\n",
       "  Music Animation Sport  Musical  Film-Noir  Documentary  News  Short  \n",
       "0     0         0     0        0          0            0     0      0  \n",
       "1     0         0     0        0          0            0     0      0  \n",
       "2     0         0     0        0          0            0     0      0  \n",
       "3     0         0     0        0          0            0     0      0  \n",
       "4     0         0     0        0          0            0     0      0  \n",
       "\n",
       "[5 rows x 47 columns]"
      ]
     },
     "execution_count": 77,
     "metadata": {},
     "output_type": "execute_result"
    }
   ],
   "source": [
    "df.head()"
   ]
  },
  {
   "cell_type": "markdown",
   "metadata": {},
   "source": [
    "## Actor"
   ]
  },
  {
   "cell_type": "code",
   "execution_count": 78,
   "metadata": {},
   "outputs": [
    {
     "data": {
      "text/plain": [
       "0"
      ]
     },
     "execution_count": 78,
     "metadata": {},
     "output_type": "execute_result"
    }
   ],
   "source": [
    "df.actors.isnull().sum()"
   ]
  },
  {
   "cell_type": "code",
   "execution_count": 79,
   "metadata": {},
   "outputs": [
    {
     "data": {
      "text/plain": [
       "0       ['Joaquin Phoenix', 'Robert De Niro', 'Zazie B...\n",
       "1       ['Kang-ho Song', 'Sun-kyun Lee', 'Yeo-jeong Jo...\n",
       "2       ['Dean-Charles Chapman', 'George MacKay', 'Dan...\n",
       "3       ['Joe Russo', 'Robert Downey Jr.', 'Chris Evan...\n",
       "4       ['Marlon Brando', 'Al Pacino', 'James Caan', '...\n",
       "                              ...                        \n",
       "2829    ['Alexander Mendeluk', 'Kate Nauta', 'Benjamin...\n",
       "2830    ['Adrien Brody', 'Emmanuelle Seigner', 'Elsa P...\n",
       "2831    ['Sharni Vinson', 'Carlyn Burchell', 'Steven J...\n",
       "2832    ['David Huffman', 'Marianna Hill', 'Burt Young...\n",
       "2833    ['Rosanna Arquette', 'William Forsythe', 'Ange...\n",
       "Name: actors, Length: 2834, dtype: object"
      ]
     },
     "execution_count": 79,
     "metadata": {},
     "output_type": "execute_result"
    }
   ],
   "source": [
    "df.actors"
   ]
  },
  {
   "cell_type": "code",
   "execution_count": 80,
   "metadata": {},
   "outputs": [],
   "source": [
    "df.actors = cleaner(df, \"actors\")"
   ]
  },
  {
   "cell_type": "code",
   "execution_count": 81,
   "metadata": {},
   "outputs": [
    {
     "data": {
      "text/plain": [
       "0       Joaquin Phoenix, Robert De Niro, Zazie Beetz, ...\n",
       "1       Kang-ho Song, Sun-kyun Lee, Yeo-jeong Jo, Woo-...\n",
       "2       Dean-Charles Chapman, George MacKay, Daniel Ma...\n",
       "3       Joe Russo, Robert Downey Jr., Chris Evans, Mar...\n",
       "4       Marlon Brando, Al Pacino, James Caan, Diane Ke...\n",
       "                              ...                        \n",
       "2829    Alexander Mendeluk, Kate Nauta, Benjamin Easte...\n",
       "2830    Adrien Brody, Emmanuelle Seigner, Elsa Pataky,...\n",
       "2831    Sharni Vinson, Carlyn Burchell, Steven John Wa...\n",
       "2832    David Huffman, Marianna Hill, Burt Young, Otis...\n",
       "2833    Rosanna Arquette, William Forsythe, Angelina J...\n",
       "Name: actors, Length: 2834, dtype: object"
      ]
     },
     "execution_count": 81,
     "metadata": {},
     "output_type": "execute_result"
    }
   ],
   "source": [
    "df.actors"
   ]
  },
  {
   "cell_type": "code",
   "execution_count": 83,
   "metadata": {},
   "outputs": [
    {
     "data": {
      "text/plain": [
       "2816"
      ]
     },
     "execution_count": 83,
     "metadata": {},
     "output_type": "execute_result"
    }
   ],
   "source": [
    "df.actors.nunique()"
   ]
  },
  {
   "cell_type": "code",
   "execution_count": 84,
   "metadata": {},
   "outputs": [
    {
     "data": {
      "text/plain": [
       "(2834, 46)"
      ]
     },
     "execution_count": 84,
     "metadata": {},
     "output_type": "execute_result"
    }
   ],
   "source": [
    "#to many unique value so we can drop it\n",
    "df.drop(columns=\"actors\", inplace=True)\n",
    "\n",
    "df.shape"
   ]
  },
  {
   "cell_type": "markdown",
   "metadata": {},
   "source": [
    "## Writer\n"
   ]
  },
  {
   "cell_type": "code",
   "execution_count": 85,
   "metadata": {},
   "outputs": [
    {
     "data": {
      "text/plain": [
       "4"
      ]
     },
     "execution_count": 85,
     "metadata": {},
     "output_type": "execute_result"
    }
   ],
   "source": [
    "df.writer.isnull().sum()"
   ]
  },
  {
   "cell_type": "code",
   "execution_count": 86,
   "metadata": {},
   "outputs": [
    {
     "data": {
      "text/plain": [
       "0               ['Todd Phillips', 'Scott Silver']\n",
       "1                ['Bong Joon Ho', 'Bong Joon Ho']\n",
       "2          ['Sam Mendes', 'Krysty Wilson-Cairns']\n",
       "3       ['Christopher Markus', 'Stephen McFeely']\n",
       "4          ['Mario Puzo', 'Francis Ford Coppola']\n",
       "                          ...                    \n",
       "2829                               ['Keith Shaw']\n",
       "2830                 ['Jim Agnew', 'Sean Keller']\n",
       "2831         ['Jonathan Jordaan', 'Alastair Orr']\n",
       "2832           ['Jeffrey Bloom', 'Jeffrey Bloom']\n",
       "2833         ['Tony Cinciripini', 'Antone Pagán']\n",
       "Name: writer, Length: 2834, dtype: object"
      ]
     },
     "execution_count": 86,
     "metadata": {},
     "output_type": "execute_result"
    }
   ],
   "source": [
    "df.writer"
   ]
  },
  {
   "cell_type": "code",
   "execution_count": 87,
   "metadata": {},
   "outputs": [],
   "source": [
    "writer = []\n",
    "for x in df.writer:\n",
    "    try:\n",
    "        a = x.split(\"(\")[0].strip()\n",
    "        a = a.strip(\",\")\n",
    "        a = a.replace(\" \", \"_\")\n",
    "    except:\n",
    "        a = None\n",
    "    writer.append(a)\n",
    "df.writer = writer\n",
    "        "
   ]
  },
  {
   "cell_type": "code",
   "execution_count": 89,
   "metadata": {},
   "outputs": [],
   "source": [
    "df.drop(\"writer\", axis=1, inplace=True)"
   ]
  },
  {
   "cell_type": "code",
   "execution_count": 90,
   "metadata": {},
   "outputs": [],
   "source": [
    "df.drop(\"director\", axis=1, inplace=True)"
   ]
  },
  {
   "cell_type": "code",
   "execution_count": 91,
   "metadata": {},
   "outputs": [
    {
     "data": {
      "text/html": [
       "<div>\n",
       "<style scoped>\n",
       "    .dataframe tbody tr th:only-of-type {\n",
       "        vertical-align: middle;\n",
       "    }\n",
       "\n",
       "    .dataframe tbody tr th {\n",
       "        vertical-align: top;\n",
       "    }\n",
       "\n",
       "    .dataframe thead th {\n",
       "        text-align: right;\n",
       "    }\n",
       "</style>\n",
       "<table border=\"1\" class=\"dataframe\">\n",
       "  <thead>\n",
       "    <tr style=\"text-align: right;\">\n",
       "      <th></th>\n",
       "      <th>movie_id</th>\n",
       "      <th>title</th>\n",
       "      <th>runtime</th>\n",
       "      <th>certificate</th>\n",
       "      <th>imdb_rating</th>\n",
       "      <th>year</th>\n",
       "      <th>votes</th>\n",
       "      <th>summary</th>\n",
       "      <th>user_review</th>\n",
       "      <th>critic_review</th>\n",
       "      <th>...</th>\n",
       "      <th>Family</th>\n",
       "      <th>History</th>\n",
       "      <th>Music</th>\n",
       "      <th>Animation</th>\n",
       "      <th>Sport</th>\n",
       "      <th>Musical</th>\n",
       "      <th>Film-Noir</th>\n",
       "      <th>Documentary</th>\n",
       "      <th>News</th>\n",
       "      <th>Short</th>\n",
       "    </tr>\n",
       "  </thead>\n",
       "  <tbody>\n",
       "    <tr>\n",
       "      <th>0</th>\n",
       "      <td>tt7286456</td>\n",
       "      <td>Joker</td>\n",
       "      <td>122.0</td>\n",
       "      <td>R</td>\n",
       "      <td>8.5</td>\n",
       "      <td>2019</td>\n",
       "      <td>804730</td>\n",
       "      <td>In Gotham City, mentally troubled comedian Art...</td>\n",
       "      <td>10188</td>\n",
       "      <td>682</td>\n",
       "      <td>...</td>\n",
       "      <td>0</td>\n",
       "      <td>0</td>\n",
       "      <td>0</td>\n",
       "      <td>0</td>\n",
       "      <td>0</td>\n",
       "      <td>0</td>\n",
       "      <td>0</td>\n",
       "      <td>0</td>\n",
       "      <td>0</td>\n",
       "      <td>0</td>\n",
       "    </tr>\n",
       "    <tr>\n",
       "      <th>1</th>\n",
       "      <td>tt6751668</td>\n",
       "      <td>Parasite</td>\n",
       "      <td>132.0</td>\n",
       "      <td>R</td>\n",
       "      <td>8.6</td>\n",
       "      <td>2019</td>\n",
       "      <td>423230</td>\n",
       "      <td>Greed and class discrimination threaten the ne...</td>\n",
       "      <td>2507</td>\n",
       "      <td>515</td>\n",
       "      <td>...</td>\n",
       "      <td>0</td>\n",
       "      <td>0</td>\n",
       "      <td>0</td>\n",
       "      <td>0</td>\n",
       "      <td>0</td>\n",
       "      <td>0</td>\n",
       "      <td>0</td>\n",
       "      <td>0</td>\n",
       "      <td>0</td>\n",
       "      <td>0</td>\n",
       "    </tr>\n",
       "    <tr>\n",
       "      <th>2</th>\n",
       "      <td>tt8579674</td>\n",
       "      <td>1917</td>\n",
       "      <td>119.0</td>\n",
       "      <td>R</td>\n",
       "      <td>8.3</td>\n",
       "      <td>2019</td>\n",
       "      <td>324071</td>\n",
       "      <td>April 6th, 1917. As a regiment assembles to wa...</td>\n",
       "      <td>2674</td>\n",
       "      <td>461</td>\n",
       "      <td>...</td>\n",
       "      <td>0</td>\n",
       "      <td>0</td>\n",
       "      <td>0</td>\n",
       "      <td>0</td>\n",
       "      <td>0</td>\n",
       "      <td>0</td>\n",
       "      <td>0</td>\n",
       "      <td>0</td>\n",
       "      <td>0</td>\n",
       "      <td>0</td>\n",
       "    </tr>\n",
       "    <tr>\n",
       "      <th>3</th>\n",
       "      <td>tt4154796</td>\n",
       "      <td>Avengers: Endgame</td>\n",
       "      <td>181.0</td>\n",
       "      <td>PG-13</td>\n",
       "      <td>8.4</td>\n",
       "      <td>2019</td>\n",
       "      <td>726032</td>\n",
       "      <td>After the devastating events of Avengers: Infi...</td>\n",
       "      <td>8764</td>\n",
       "      <td>550</td>\n",
       "      <td>...</td>\n",
       "      <td>0</td>\n",
       "      <td>0</td>\n",
       "      <td>0</td>\n",
       "      <td>0</td>\n",
       "      <td>0</td>\n",
       "      <td>0</td>\n",
       "      <td>0</td>\n",
       "      <td>0</td>\n",
       "      <td>0</td>\n",
       "      <td>0</td>\n",
       "    </tr>\n",
       "    <tr>\n",
       "      <th>4</th>\n",
       "      <td>tt0068646</td>\n",
       "      <td>The Godfather</td>\n",
       "      <td>175.0</td>\n",
       "      <td>R</td>\n",
       "      <td>9.2</td>\n",
       "      <td>1972</td>\n",
       "      <td>1551490</td>\n",
       "      <td>The aging patriarch of an organized crime dyna...</td>\n",
       "      <td>3824</td>\n",
       "      <td>249</td>\n",
       "      <td>...</td>\n",
       "      <td>0</td>\n",
       "      <td>0</td>\n",
       "      <td>0</td>\n",
       "      <td>0</td>\n",
       "      <td>0</td>\n",
       "      <td>0</td>\n",
       "      <td>0</td>\n",
       "      <td>0</td>\n",
       "      <td>0</td>\n",
       "      <td>0</td>\n",
       "    </tr>\n",
       "  </tbody>\n",
       "</table>\n",
       "<p>5 rows × 44 columns</p>\n",
       "</div>"
      ],
      "text/plain": [
       "    movie_id              title  runtime certificate  imdb_rating  year  \\\n",
       "0  tt7286456              Joker    122.0           R          8.5  2019   \n",
       "1  tt6751668           Parasite    132.0           R          8.6  2019   \n",
       "2  tt8579674               1917    119.0           R          8.3  2019   \n",
       "3  tt4154796  Avengers: Endgame    181.0       PG-13          8.4  2019   \n",
       "4  tt0068646      The Godfather    175.0           R          9.2  1972   \n",
       "\n",
       "     votes                                            summary  user_review  \\\n",
       "0   804730  In Gotham City, mentally troubled comedian Art...        10188   \n",
       "1   423230  Greed and class discrimination threaten the ne...         2507   \n",
       "2   324071  April 6th, 1917. As a regiment assembles to wa...         2674   \n",
       "3   726032  After the devastating events of Avengers: Infi...         8764   \n",
       "4  1551490  The aging patriarch of an organized crime dyna...         3824   \n",
       "\n",
       "  critic_review  ... Family History  Music  Animation  Sport  Musical  \\\n",
       "0           682  ...      0       0      0          0      0        0   \n",
       "1           515  ...      0       0      0          0      0        0   \n",
       "2           461  ...      0       0      0          0      0        0   \n",
       "3           550  ...      0       0      0          0      0        0   \n",
       "4           249  ...      0       0      0          0      0        0   \n",
       "\n",
       "   Film-Noir  Documentary  News  Short  \n",
       "0          0            0     0      0  \n",
       "1          0            0     0      0  \n",
       "2          0            0     0      0  \n",
       "3          0            0     0      0  \n",
       "4          0            0     0      0  \n",
       "\n",
       "[5 rows x 44 columns]"
      ]
     },
     "execution_count": 91,
     "metadata": {},
     "output_type": "execute_result"
    }
   ],
   "source": [
    "df.head()"
   ]
  },
  {
   "cell_type": "code",
   "execution_count": 92,
   "metadata": {},
   "outputs": [],
   "source": [
    "df.to_csv('cleaned_imdb.csv')"
   ]
  },
  {
   "cell_type": "code",
   "execution_count": null,
   "metadata": {},
   "outputs": [],
   "source": []
  }
 ],
 "metadata": {
  "kernelspec": {
   "display_name": "Python 3",
   "language": "python",
   "name": "python3"
  },
  "language_info": {
   "codemirror_mode": {
    "name": "ipython",
    "version": 3
   },
   "file_extension": ".py",
   "mimetype": "text/x-python",
   "name": "python",
   "nbconvert_exporter": "python",
   "pygments_lexer": "ipython3",
   "version": "3.7.7"
  },
  "toc": {
   "base_numbering": 1,
   "nav_menu": {},
   "number_sections": true,
   "sideBar": true,
   "skip_h1_title": false,
   "title_cell": "Table of Contents",
   "title_sidebar": "Contents",
   "toc_cell": false,
   "toc_position": {},
   "toc_section_display": true,
   "toc_window_display": false
  }
 },
 "nbformat": 4,
 "nbformat_minor": 4
}
